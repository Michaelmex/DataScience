{
 "cells": [
  {
   "cell_type": "markdown",
   "id": "d4694fea-5c8a-4de0-b875-3a35476edea5",
   "metadata": {},
   "source": [
    "# Data Science Tools and Ecosystem"
   ]
  },
  {
   "cell_type": "markdown",
   "id": "9e88e0e0-7bd8-41b5-a7e5-3cb034a23176",
   "metadata": {},
   "source": [
    "In this notebook, Data Science Tools and Ecosystem are summarized."
   ]
  },
  {
   "cell_type": "markdown",
   "id": "bd5873de-3ef4-46ca-ad10-a7363645eafa",
   "metadata": {},
   "source": [
    " **Some of the popular languages that Data Scientists use are:** \n",
    "1. python\n",
    "2. SQL\n",
    "3. R"
   ]
  },
  {
   "cell_type": "markdown",
   "id": "32309219-0a10-49c6-afe3-08498dccbeea",
   "metadata": {},
   "source": [
    "**Some of the commonly used libraries used by Data Scientists include:**\n",
    "1. TensorFlow.\n",
    "2. SciPy.\n",
    "3. NumPy.\n",
    "4. Pandas.\n",
    "5. Pytorch."
   ]
  },
  {
   "cell_type": "markdown",
   "id": "ce1e0c68-8d63-4b36-83e2-d0ed2937bc3d",
   "metadata": {},
   "source": [
    "**Data Science Tools**\n",
    "|Data Science Tools|\n",
    "|:---|\n",
    "|Jupyter Notebook|\n",
    "|RStudio|\n",
    "|Apache Spark|"
   ]
  },
  {
   "cell_type": "markdown",
   "id": "6a3980e4-a44d-40c6-a906-bed751ea658c",
   "metadata": {},
   "source": [
    "### Below are a few examples of evaluating arithmetic expressions in Python."
   ]
  },
  {
   "cell_type": "code",
   "execution_count": 4,
   "id": "05dd8f09-577b-4f78-a482-28f3d7bc3e0c",
   "metadata": {},
   "outputs": [
    {
     "name": "stdout",
     "output_type": "stream",
     "text": [
      "17\n",
      "True\n"
     ]
    }
   ],
   "source": [
    "# This a simple arithmetic expression to mutiply then add integers \n",
    "eval = (3 * 4) + 5\n",
    "print(eval)\n",
    "print(eval == 17)"
   ]
  },
  {
   "cell_type": "code",
   "execution_count": 5,
   "id": "bddc93ce-8f62-4e9d-885c-0cd06968451e",
   "metadata": {},
   "outputs": [
    {
     "name": "stdout",
     "output_type": "stream",
     "text": [
      "33.333333333333336\n"
     ]
    }
   ],
   "source": [
    "# In this code cell write an expression that converts 200 minutes into hours.\n",
    "print(200/6)"
   ]
  },
  {
   "cell_type": "markdown",
   "id": "711c855a-45f7-4622-b8ce-58b9a7a4905a",
   "metadata": {},
   "source": [
    "**Objectives:** List popular languages for Data Science.\n",
    "- Python.\n",
    "- SQL.\n",
    "- R.\n",
    "- Java.\n",
    "- Julia."
   ]
  },
  {
   "cell_type": "markdown",
   "id": "911dbb18-8ed0-4358-bf81-38ddc55c0035",
   "metadata": {},
   "source": [
    "## Author\n",
    "name : Arenas Pizan, Noemi"
   ]
  }
 ],
 "metadata": {
  "kernelspec": {
   "display_name": "Python 3 (ipykernel)",
   "language": "python",
   "name": "python3"
  },
  "language_info": {
   "codemirror_mode": {
    "name": "ipython",
    "version": 3
   },
   "file_extension": ".py",
   "mimetype": "text/x-python",
   "name": "python",
   "nbconvert_exporter": "python",
   "pygments_lexer": "ipython3",
   "version": "3.11.7"
  }
 },
 "nbformat": 4,
 "nbformat_minor": 5
}
